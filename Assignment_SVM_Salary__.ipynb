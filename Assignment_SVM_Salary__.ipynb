{
 "cells": [
  {
   "cell_type": "code",
   "execution_count": null,
   "id": "24876902",
   "metadata": {},
   "outputs": [],
   "source": [
    "# Supressing warnings\n",
    "import warnings\n",
    "warnings.filterwarnings('ignore')"
   ]
  },
  {
   "cell_type": "code",
   "execution_count": null,
   "id": "835da37a",
   "metadata": {},
   "outputs": [],
   "source": [
    "# Importing Libraries\n",
    "import pandas as pd\n",
    "import numpy as np\n",
    "import seaborn as sns\n",
    "from matplotlib.colors import ListedColormap\n",
    "import matplotlib.pyplot as plt\n",
    "from dataprep.eda import plot, create_report\n",
    "import scipy.stats as stat\n",
    "from collections import Counter\n",
    "import dataprep\n",
    "from sklearn.svm import SVC\n",
    "from tqdm.notebook import tqdm_notebook\n",
    "from imblearn.over_sampling import SMOTE,  ADASYN\n",
    "from imblearn.combine import SMOTETomek, SMOTEENN\n",
    "from sklearn.metrics import classification_report,confusion_matrix,accuracy_score\n",
    "from statsmodels.stats.outliers_influence import variance_inflation_factor\n",
    "from dataprep.eda import plot, plot_correlation, plot_missing, create_report\n",
    "from sklearn.model_selection import KFold , GridSearchCV, train_test_split, StratifiedKFold, RandomizedSearchCV\n",
    "from sklearn.metrics import confusion_matrix as cm, accuracy_score as ac, classification_report as report,\\\n",
    "roc_curve, roc_auc_score , recall_score , precision_score, f1_score"
   ]
  },
  {
   "cell_type": "code",
   "execution_count": null,
   "id": "fd80e91e",
   "metadata": {},
   "outputs": [],
   "source": [
    "# Importing Training Dataset\n",
    "salary_train = pd.read_csv('SalaryData_train.csv')\n",
    "salary_train"
   ]
  },
  {
   "cell_type": "code",
   "execution_count": null,
   "id": "f70901e2",
   "metadata": {},
   "outputs": [],
   "source": [
    "# Importing Testing Dataset\n",
    "salary_test = pd.read_csv('SalaryData_test.csv')\n",
    "salary_test"
   ]
  },
  {
   "cell_type": "code",
   "execution_count": null,
   "id": "059973e4",
   "metadata": {},
   "outputs": [],
   "source": [
    "# Merging Train and Test Data\n",
    "raw_data = salary_train.append(salary_test)\n",
    "raw_data.reset_index(inplace=True,drop=True)\n",
    "raw_data"
   ]
  },
  {
   "cell_type": "code",
   "execution_count": null,
   "id": "abb6ab2e",
   "metadata": {},
   "outputs": [],
   "source": [
    "# print shape of dataset with rows and columns\n",
    "print(raw_data.shape)\n",
    "# print top 5 records\n",
    "raw_data.head()"
   ]
  },
  {
   "cell_type": "code",
   "execution_count": null,
   "id": "f40e08dd",
   "metadata": {},
   "outputs": [],
   "source": [
    "raw_data.describe()"
   ]
  },
  {
   "cell_type": "code",
   "execution_count": null,
   "id": "29dccae0",
   "metadata": {},
   "outputs": [],
   "source": [
    "raw_data.info()"
   ]
  },
  {
   "cell_type": "code",
   "execution_count": null,
   "id": "35ff1315",
   "metadata": {},
   "outputs": [],
   "source": [
    "raw_data.isnull().sum()"
   ]
  },
  {
   "cell_type": "code",
   "execution_count": null,
   "id": "d8ef40a0",
   "metadata": {},
   "outputs": [],
   "source": [
    "raw_data[raw_data.duplicated()]"
   ]
  },
  {
   "cell_type": "code",
   "execution_count": null,
   "id": "b1ac6124",
   "metadata": {},
   "outputs": [],
   "source": [
    "raw_data[raw_data.duplicated()].shape"
   ]
  },
  {
   "cell_type": "code",
   "execution_count": null,
   "id": "b41520ef",
   "metadata": {},
   "outputs": [],
   "source": [
    "# List of Numerical Variables\n",
    "numerical_features=[feature for feature in raw_data.columns if raw_data[feature].dtypes != 'O']\n",
    "\n",
    "print('Number of numerical variables:', len(numerical_features))\n",
    "\n",
    "# Visualize the numerical variables\n",
    "raw_data[numerical_features].head()"
   ]
  },
  {
   "cell_type": "code",
   "execution_count": null,
   "id": "aef9f846",
   "metadata": {},
   "outputs": [],
   "source": [
    "discrete_feature=[feature for feature in numerical_features if len(raw_data[feature].unique())<25]\n",
    "print('Discrete Variables Count: {}'.format(len(discrete_feature)))"
   ]
  },
  {
   "cell_type": "code",
   "execution_count": null,
   "id": "0ba6f1b8",
   "metadata": {},
   "outputs": [],
   "source": [
    "continuous_feature=[feature for feature in numerical_features if feature not in discrete_feature]\n",
    "print('Continuous Feature Count {}'.format(len(continuous_feature)))"
   ]
  },
  {
   "cell_type": "code",
   "execution_count": null,
   "id": "6b5a5980",
   "metadata": {},
   "outputs": [],
   "source": [
    "# find categorical variables\n",
    "\n",
    "categorical = [var for var in raw_data.columns if raw_data[var].dtype=='O']\n",
    "\n",
    "print('There are {} categorical variables\\n'.format(len(categorical)))\n",
    "\n",
    "print('The categorical variables are :\\n\\n', categorical)"
   ]
  },
  {
   "cell_type": "code",
   "execution_count": null,
   "id": "847fc786",
   "metadata": {},
   "outputs": [],
   "source": [
    "# view frequency counts of values in categorical variables\n",
    "\n",
    "for var in categorical: \n",
    "    \n",
    "    print(raw_data[var].value_counts())"
   ]
  },
  {
   "cell_type": "code",
   "execution_count": null,
   "id": "c3ff3155",
   "metadata": {},
   "outputs": [],
   "source": [
    "# view frequency distribution of categorical variables\n",
    "\n",
    "for var in categorical: \n",
    "    \n",
    "    print(raw_data[var].value_counts()/np.float(len(raw_data)))"
   ]
  },
  {
   "cell_type": "code",
   "execution_count": null,
   "id": "c5228b7a",
   "metadata": {},
   "outputs": [],
   "source": [
    "# check for cardinality in categorical variables\n",
    "\n",
    "for var in categorical:\n",
    "    \n",
    "    print(var, ' contains ', len(raw_data[var].unique()), ' labels')"
   ]
  },
  {
   "cell_type": "code",
   "execution_count": null,
   "id": "0d43df9e",
   "metadata": {},
   "outputs": [],
   "source": [
    "raw_data.corr()"
   ]
  },
  {
   "cell_type": "code",
   "execution_count": null,
   "id": "783762de",
   "metadata": {
    "scrolled": false
   },
   "outputs": [],
   "source": [
    "fig= plt.figure(figsize=(18, 6))\n",
    "sns.heatmap(raw_data.corr(), annot=True);\n",
    "plt.xticks(rotation=45)"
   ]
  },
  {
   "cell_type": "code",
   "execution_count": null,
   "id": "be98e9c9",
   "metadata": {},
   "outputs": [],
   "source": [
    "for feat in continuous_feature:\n",
    "    skew = raw_data[feat].skew()\n",
    "    sns.distplot(raw_data[feat], kde= False, label='Skew = %.3f' %(skew), bins=30)\n",
    "    plt.legend(loc='best')\n",
    "    plt.show()"
   ]
  },
  {
   "cell_type": "code",
   "execution_count": null,
   "id": "272dd192",
   "metadata": {},
   "outputs": [],
   "source": [
    "# Detect observations with more than one outlier\n",
    "\n",
    "def outlier_hunt(df):\n",
    "    \"\"\"\n",
    "    Takes a dataframe df of features and returns a list of the indices\n",
    "    corresponding to the observations containing more than 2 outliers. \n",
    "    \"\"\"\n",
    "    outlier_indices = []\n",
    "    \n",
    "    # iterate over features(columns)\n",
    "    for col in df.columns.tolist():\n",
    "        # 1st quartile (25%)\n",
    "        Q1 = np.percentile(df[col], 25)\n",
    "        \n",
    "        # 3rd quartile (75%)\n",
    "        Q3 = np.percentile(df[col],75)\n",
    "        \n",
    "        # Interquartile rrange (IQR)\n",
    "        IQR = Q3 - Q1\n",
    "        \n",
    "        # outlier step\n",
    "        outlier_step = 1.5 * IQR\n",
    "        \n",
    "        # Determine a list of indices of outliers for feature col\n",
    "        outlier_list_col = df[(df[col] < Q1 - outlier_step) | (df[col] > Q3 + outlier_step )].index\n",
    "        \n",
    "        # append the found outlier indices for col to the list of outlier indices \n",
    "        outlier_indices.extend(outlier_list_col)\n",
    "        \n",
    "    # select observations containing more than 2 outliers\n",
    "    outlier_indices = Counter(outlier_indices)        \n",
    "    multiple_outliers = list( k for k, v in outlier_indices.items() if v > 2 )\n",
    "    \n",
    "    return multiple_outliers   \n",
    "\n",
    "print('The dataset contains %d observations with more than 2 outliers' %(len(outlier_hunt(raw_data[continuous_feature])))) "
   ]
  },
  {
   "cell_type": "code",
   "execution_count": null,
   "id": "1d507671",
   "metadata": {},
   "outputs": [],
   "source": [
    "continuous_feature"
   ]
  },
  {
   "cell_type": "code",
   "execution_count": null,
   "id": "98ba843a",
   "metadata": {},
   "outputs": [],
   "source": [
    "ot=raw_data.copy() \n",
    "fig, axes=plt.subplots(4,1,figsize=(14,8),sharex=False,sharey=False)\n",
    "sns.boxplot(x='age',data=ot,palette='crest',ax=axes[0])\n",
    "sns.boxplot(x='capitalgain',data=ot,palette='crest',ax=axes[1])\n",
    "sns.boxplot(x='capitalloss',data=ot,palette='crest',ax=axes[2])\n",
    "sns.boxplot(x='hoursperweek',data=ot,palette='crest',ax=axes[3])\n",
    "plt.tight_layout(pad=2.0)"
   ]
  },
  {
   "cell_type": "code",
   "execution_count": null,
   "id": "ba643ae2",
   "metadata": {},
   "outputs": [],
   "source": [
    "dist_age_balance = plt.figure(figsize = (10,6))\n",
    "\n",
    "ra1 = dist_age_balance.add_subplot(1,2,1) \n",
    "ra2 = dist_age_balance.add_subplot(1,2,2)\n",
    "\n",
    "ra1.hist(raw_data['age'])\n",
    "ra1.set_title('The Distribution of Age')\n",
    "\n",
    "ra2.hist(raw_data['hoursperweek'], color = 'skyblue')\n",
    "ra2.set_title('The Distribution of Working hours per Week')\n",
    "\n",
    "plt.tight_layout() \n",
    "plt.show()"
   ]
  },
  {
   "cell_type": "code",
   "execution_count": null,
   "id": "70c8f7cc",
   "metadata": {
    "scrolled": true
   },
   "outputs": [],
   "source": [
    "raw_data[['age','hoursperweek']].describe()"
   ]
  },
  {
   "cell_type": "code",
   "execution_count": null,
   "id": "9358ec85",
   "metadata": {},
   "outputs": [],
   "source": [
    "#age and salary\n",
    "\n",
    "b_df = pd.DataFrame()\n",
    "b_df['age_wrt_salary_more_than_50k'] = (raw_data[raw_data['Salary'] == ' <=50K'][['Salary','age']].describe())['age']\n",
    "b_df['age_wrt_salary_less_than_50k'] = (raw_data[raw_data['Salary'] == ' >50K'][['Salary','age']].describe())['age']\n",
    "\n",
    "b_df"
   ]
  },
  {
   "cell_type": "code",
   "execution_count": null,
   "id": "275ed836",
   "metadata": {},
   "outputs": [],
   "source": [
    "b_df.drop(['count', '25%', '50%', '75%']).plot.bar(title = 'Age and Salary statistics')"
   ]
  },
  {
   "cell_type": "code",
   "execution_count": null,
   "id": "33e681cf",
   "metadata": {},
   "outputs": [],
   "source": [
    "#capitalgain and salary\n",
    "\n",
    "a_df = pd.DataFrame()\n",
    "a_df['capitalgain_wrt_salary_more_than_50k'] = (raw_data[raw_data['Salary'] == ' <=50K'][['Salary','capitalgain']].describe())['capitalgain']\n",
    "a_df['capitalgain_wrt_salary_less_than_50k'] = (raw_data[raw_data['Salary'] == ' >50K'][['Salary','capitalgain']].describe())['capitalgain']\n",
    "\n",
    "a_df"
   ]
  },
  {
   "cell_type": "code",
   "execution_count": null,
   "id": "17f3b272",
   "metadata": {},
   "outputs": [],
   "source": [
    "a_df.drop(['count', '25%', '50%', '75%']).plot.bar(title = 'Capital Gain and Salary statistics')"
   ]
  },
  {
   "cell_type": "code",
   "execution_count": null,
   "id": "15351236",
   "metadata": {},
   "outputs": [],
   "source": [
    "#capitalloss and deposit\n",
    "c_df = pd.DataFrame()\n",
    "c_df['capitalloss_wrt_salary_more_than_50k'] = (raw_data[raw_data['Salary'] == ' <=50K'][['Salary','capitalloss']].describe())['capitalloss']\n",
    "c_df['capitalloss_wrt_salary_less_than_50k'] = (raw_data[raw_data['Salary'] == ' >50K'][['Salary','capitalloss']].describe())['capitalloss']\n",
    "\n",
    "c_df"
   ]
  },
  {
   "cell_type": "code",
   "execution_count": null,
   "id": "ac74865a",
   "metadata": {},
   "outputs": [],
   "source": [
    "#hoursperweek and deposit\n",
    "p_df = pd.DataFrame()\n",
    "p_df['hoursperweek_wrt_salary_more_than_50k'] = (raw_data[raw_data['Salary'] == ' <=50K'][['Salary','hoursperweek']].describe())['hoursperweek']\n",
    "p_df['hoursperweek_wrt_salary_less_than_50k'] = (raw_data[raw_data['Salary'] == ' >50K'][['Salary','hoursperweek']].describe())['hoursperweek']\n",
    "\n",
    "p_df"
   ]
  },
  {
   "cell_type": "code",
   "execution_count": null,
   "id": "ec846ed2",
   "metadata": {
    "scrolled": true
   },
   "outputs": [],
   "source": [
    "p_df.drop(['count', '25%', '50%', '75%']).plot.bar(title = 'Working Hours per Week and Salary statistics')"
   ]
  },
  {
   "cell_type": "code",
   "execution_count": null,
   "id": "214da6ba",
   "metadata": {},
   "outputs": [],
   "source": [
    "categorical_features=[feature for feature in raw_data.columns if raw_data[feature].dtype=='O']\n",
    "print('Number of Categorical Features:',len(categorical_features), '\\n', categorical_features)\n",
    "raw_data[categorical_features].head()"
   ]
  },
  {
   "cell_type": "code",
   "execution_count": null,
   "id": "e24645df",
   "metadata": {},
   "outputs": [],
   "source": [
    "for feature in categorical_features:\n",
    "    print(\"{} number of unique categories in feature named {}\".format(len(raw_data[feature].unique()),feature))"
   ]
  },
  {
   "cell_type": "code",
   "execution_count": null,
   "id": "bc87c1f6",
   "metadata": {},
   "outputs": [],
   "source": [
    "# Decide which categorical variables you want to use in model\n",
    "for feature in raw_data.columns:\n",
    "    if raw_data[feature].dtypes == 'object':# in pandas it is object\n",
    "        unique_cat = len(raw_data[feature].unique())\n",
    "        print(\"Feature '{col_name}' has {unique_cat} unique categories\".format(col_name=feature, unique_cat=unique_cat))\n",
    "        print(raw_data[feature].value_counts())\n",
    "        print()"
   ]
  },
  {
   "cell_type": "code",
   "execution_count": null,
   "id": "13f61b09",
   "metadata": {
    "scrolled": false
   },
   "outputs": [],
   "source": [
    "fig, axs = plt.subplots(3, 3, sharex=False, sharey=False, figsize=(20, 15))\n",
    "\n",
    "counter = 0\n",
    "for cat_column in categorical_features:\n",
    "    value_counts = raw_data[cat_column].value_counts()\n",
    "    \n",
    "    trace_x = counter // 3\n",
    "    trace_y = counter % 3\n",
    "    x_pos = np.arange(0, len(value_counts))\n",
    "    \n",
    "    axs[trace_x, trace_y].bar(x_pos, value_counts.values, tick_label = value_counts.index)\n",
    "    \n",
    "    axs[trace_x, trace_y].set_title(cat_column)\n",
    "    \n",
    "    for tick in axs[trace_x, trace_y].get_xticklabels():\n",
    "        tick.set_rotation(90)\n",
    "    \n",
    "    counter += 1\n",
    "\n",
    "plt.show()"
   ]
  },
  {
   "cell_type": "code",
   "execution_count": null,
   "id": "f12b1c22",
   "metadata": {},
   "outputs": [],
   "source": [
    "sns.countplot(x='maritalstatus', data=raw_data, palette = pal, \n",
    "              order=raw_data['maritalstatus'].value_counts().index)\n",
    "plt.xticks(fontsize = 12,rotation = 90)\n",
    "plt.title('Marital Status')"
   ]
  },
  {
   "cell_type": "code",
   "execution_count": null,
   "id": "353ef3c4",
   "metadata": {},
   "outputs": [],
   "source": [
    "sns.countplot(x='education', data=raw_data, palette = pal, \n",
    "              order=raw_data['education'].value_counts().index)\n",
    "plt.xticks(fontsize = 12,rotation = 90)\n",
    "plt.title('Education')"
   ]
  },
  {
   "cell_type": "code",
   "execution_count": null,
   "id": "5312df80",
   "metadata": {
    "scrolled": false
   },
   "outputs": [],
   "source": [
    "sns.countplot(x='sex', data=raw_data, palette = pal, \n",
    "              order=raw_data['sex'].value_counts().index)\n",
    "plt.xticks(fontsize = 12,rotation=90)\n",
    "plt.title('Sex')"
   ]
  },
  {
   "cell_type": "code",
   "execution_count": null,
   "id": "45135816",
   "metadata": {},
   "outputs": [],
   "source": [
    "plt.figure(figsize=(14,6),dpi=250)\n",
    "sns.countplot(x='native', data=raw_data, palette = pal, \n",
    "              order=raw_data['native'].value_counts().index)\n",
    "plt.xticks(fontsize = 12,rotation=90)\n",
    "plt.title('Native')"
   ]
  },
  {
   "cell_type": "code",
   "execution_count": null,
   "id": "d19f9819",
   "metadata": {},
   "outputs": [],
   "source": [
    "countlessthanfiftyk = len(raw_data[raw_data.Salary == ' <=50K'])\n",
    "countgreatthanfiftyk = len(raw_data[raw_data.Salary == ' >50K'])\n",
    "print(\"Percentage of Employees with Salary greater than 50k: {:.2f}%\".format((countgreatthanfiftyk / (len(raw_data.Salary))*100)))\n",
    "print(\"Percentage of Employees with Salary lesser than 50k: {:.2f}%\".format((countlessthanfiftyk / (len(raw_data.Salary))*100)))"
   ]
  },
  {
   "cell_type": "code",
   "execution_count": null,
   "id": "32966d64",
   "metadata": {},
   "outputs": [],
   "source": [
    "raw_data.Salary.value_counts()"
   ]
  },
  {
   "cell_type": "code",
   "execution_count": null,
   "id": "2abc3dd2",
   "metadata": {},
   "outputs": [],
   "source": [
    "pal = sns.color_palette('rainbow')\n",
    "sns.countplot(x='Salary', data=raw_data, palette = pal, \n",
    "              order=raw_data['Salary'].value_counts().index, );\n",
    "plt.xticks(fontsize = 12)\n",
    "plt.title('Salary')"
   ]
  },
  {
   "cell_type": "code",
   "execution_count": null,
   "id": "9116406b",
   "metadata": {},
   "outputs": [],
   "source": [
    "#workclass and Salary\n",
    "j_df = pd.DataFrame()\n",
    "\n",
    "j_df[' <=50K'] = raw_data[raw_data['Salary'] == ' <=50K']['workclass'].value_counts()\n",
    "j_df[' >50K'] = raw_data[raw_data['Salary'] == ' >50K']['workclass'].value_counts()\n",
    "j_df.plot.bar(title = 'Workclass and Salary',figsize=(14,6))\n",
    "j_df.plot(figsize=(14,6))"
   ]
  },
  {
   "cell_type": "code",
   "execution_count": null,
   "id": "236024aa",
   "metadata": {},
   "outputs": [],
   "source": [
    "fig= plt.figure(figsize=(18, 6))\n",
    "sns.heatmap(pd.crosstab(index=raw_data['workclass'], columns=raw_data['Salary']), annot=True, \n",
    "            fmt='g')"
   ]
  },
  {
   "cell_type": "code",
   "execution_count": null,
   "id": "5c6e628d",
   "metadata": {},
   "outputs": [],
   "source": [
    "#maritalstatus and Salary\n",
    "j_df = pd.DataFrame()\n",
    "\n",
    "j_df[' <=50K'] = raw_data[raw_data['Salary'] == ' <=50K']['maritalstatus'].value_counts()\n",
    "j_df[' >50K'] = raw_data[raw_data['Salary'] == ' >50K']['maritalstatus'].value_counts()\n",
    "j_df.plot.bar(title = 'Marital Status and Salary',figsize=(14,6))\n",
    "j_df.plot(figsize=(14,6))"
   ]
  },
  {
   "cell_type": "code",
   "execution_count": null,
   "id": "16875843",
   "metadata": {},
   "outputs": [],
   "source": [
    "#occupation and Salary\n",
    "j_df = pd.DataFrame()\n",
    "\n",
    "j_df[' <=50K'] = raw_data[raw_data['Salary'] == ' <=50K']['occupation'].value_counts()\n",
    "j_df[' >50K'] = raw_data[raw_data['Salary'] == ' >50K']['occupation'].value_counts()\n",
    "j_df.plot.bar(title = 'Occupation and Salary',figsize=(14,6))\n",
    "j_df.plot(figsize=(14,6))"
   ]
  },
  {
   "cell_type": "code",
   "execution_count": null,
   "id": "4ff4ecf0",
   "metadata": {},
   "outputs": [],
   "source": [
    "fig= plt.figure(figsize=(18, 6))\n",
    "sns.heatmap(pd.crosstab(index=raw_data['occupation'], columns=raw_data['Salary']), annot=True, \n",
    "            fmt='g')"
   ]
  },
  {
   "cell_type": "code",
   "execution_count": null,
   "id": "2ebbbefb",
   "metadata": {},
   "outputs": [],
   "source": [
    "#relationship and Salary\n",
    "j_df = pd.DataFrame()\n",
    "\n",
    "j_df[' <=50K'] = raw_data[raw_data['Salary'] == ' <=50K']['relationship'].value_counts()\n",
    "j_df[' >50K'] = raw_data[raw_data['Salary'] == ' >50K']['relationship'].value_counts()\n",
    "j_df.plot.bar(title = 'Relationship and Salary',figsize=(14,6))\n",
    "j_df.plot(figsize=(14,6))"
   ]
  },
  {
   "cell_type": "code",
   "execution_count": null,
   "id": "7eaf18ac",
   "metadata": {},
   "outputs": [],
   "source": [
    "fig= plt.figure(figsize=(18, 4))\n",
    "sns.heatmap(pd.crosstab(index=raw_data['relationship'], columns=raw_data['Salary']), annot=True, \n",
    "            fmt='g')"
   ]
  },
  {
   "cell_type": "code",
   "execution_count": null,
   "id": "3190517b",
   "metadata": {
    "scrolled": true
   },
   "outputs": [],
   "source": [
    "pd.crosstab(raw_data.age,raw_data.Salary).plot(kind=\"bar\",figsize=(20,6))\n",
    "plt.title('Term Deposit accepted Frequency for Ages', fontsize = 16)\n",
    "plt.xticks(fontsize = 12)\n",
    "plt.xlabel('Age', fontsize = 15)\n",
    "plt.ylabel('Frequency')\n",
    "plt.show()"
   ]
  },
  {
   "cell_type": "code",
   "execution_count": null,
   "id": "b277ec76",
   "metadata": {},
   "outputs": [],
   "source": [
    "plt.scatter(x=raw_data.age[raw_data.Salary== ' <=50K'], y=raw_data.hoursperweek[(raw_data.Salary== ' <=50K')], c=\"red\")\n",
    "plt.scatter(x=raw_data.age[raw_data.Salary== ' >50K'], y=raw_data.hoursperweek[(raw_data.Salary== ' >50K')])\n",
    "plt.legend([\"More than 50k\", \"Less than 50k Salary\"])\n",
    "plt.xlabel(\"Age\")\n",
    "plt.ylabel(\"Working hours/week\")\n",
    "plt.show()"
   ]
  },
  {
   "cell_type": "code",
   "execution_count": null,
   "id": "d78e0c70",
   "metadata": {},
   "outputs": [],
   "source": [
    "raw_data.age.value_counts()"
   ]
  },
  {
   "cell_type": "code",
   "execution_count": null,
   "id": "4aee1f28",
   "metadata": {},
   "outputs": [],
   "source": [
    "lst = [raw_data]\n",
    "for column in lst:\n",
    "    column.loc[column[\"age\"] < 30,  'age_group'] = 20\n",
    "    column.loc[(column[\"age\"] >= 30) & (column[\"age\"] <= 39), 'age_group'] = 30\n",
    "    column.loc[(column[\"age\"] >= 40) & (column[\"age\"] <= 49), 'age_group'] = 40\n",
    "    column.loc[(column[\"age\"] >= 50) & (column[\"age\"] <= 59), 'age_group'] = 50\n",
    "    column.loc[column[\"age\"] >= 60, 'age_group'] = 60\n",
    "    \n",
    "count_age_response_pct = pd.crosstab(raw_data['Salary'],raw_data['age_group']).apply(lambda x: x/x.sum() * 100)\n",
    "count_age_response_pct = count_age_response_pct.transpose() \n",
    "\n",
    "age = pd.DataFrame(raw_data['age_group'].value_counts())\n",
    "age['% Employees'] = age['age_group']*100/age['age_group'].sum()\n",
    "age['% Salary >50k'] = count_age_response_pct[' >50K']\n",
    "age['% Salary <=50K'] = count_age_response_pct[' <=50K']\n",
    "age.drop('age_group',axis = 1,inplace = True)\n",
    "\n",
    "age['age'] = [30,40,50,20,60]\n",
    "age = age.sort_values('age',ascending = True)\n",
    "\n",
    "plot_age = age[['% Employees','% Salary >50k','% Salary <=50K']].plot(kind = 'bar',\n",
    "                                              figsize=(8,6), color = ('blue','green','red'))\n",
    "plt.xlabel('Age Group')\n",
    "plt.ylabel('Frequency')\n",
    "plt.xticks(np.arange(5), ('<30', '30-39', '40-49', '50-59', '60+'),rotation = 'horizontal')\n",
    "plt.title('Salary vs. Employee Rate by Age')\n",
    "plt.show()"
   ]
  },
  {
   "cell_type": "code",
   "execution_count": null,
   "id": "df5f102b",
   "metadata": {},
   "outputs": [],
   "source": [
    "lst = [raw_data]\n",
    "for column in lst:\n",
    "    column.loc[column[\"age\"] < 30,  'age_group'] = 20\n",
    "    column.loc[(column[\"age\"] >= 30) & (column[\"age\"] <= 39), 'age_group'] = 30\n",
    "    column.loc[(column[\"age\"] >= 40) & (column[\"age\"] <= 49), 'age_group'] = 40\n",
    "    column.loc[(column[\"age\"] >= 50) & (column[\"age\"] <= 59), 'age_group'] = 50\n",
    "    column.loc[column[\"age\"] >= 60, 'age_group'] = 60\n",
    "    \n",
    "count_age_response_pct = pd.crosstab(raw_data['Salary'],raw_data['age_group']).apply(lambda x: x/x.sum() * 100)\n",
    "count_age_response_pct = count_age_response_pct.transpose() \n",
    "\n",
    "age = pd.DataFrame(raw_data['age_group'].value_counts())\n",
    "age['% Employees'] = age['age_group']*100/age['age_group'].sum()\n",
    "age['% Salary >50k'] = count_age_response_pct[' >50K']\n",
    "age.drop('age_group',axis = 1,inplace = True)\n",
    "\n",
    "age['age'] = [30,40,50,20,60]\n",
    "age = age.sort_values('age',ascending = True)\n",
    "\n",
    "plot_age = age[['% Salary >50k','% Employees']].plot(kind = 'bar',\n",
    "                                              figsize=(8,6), color = ('green','red'))\n",
    "plt.xlabel('Age Group')\n",
    "plt.ylabel('Frequency')\n",
    "plt.xticks(np.arange(5), ('<30', '30-39', '40-49', '50-59', '60+'),rotation = 'horizontal')\n",
    "plt.title('Salary vs. Employee Rate by Age')\n",
    "\n",
    "# label the bar\n",
    "for rec, label in zip(plot_age.patches,\n",
    "                      age['% Salary >50k'].round(1).astype(str)):\n",
    "    plot_age.text(rec.get_x() + rec.get_width()/2, \n",
    "                      rec.get_height() + 1, \n",
    "                      label+'%',  \n",
    "                      ha = 'center', \n",
    "                      color = 'black')"
   ]
  },
  {
   "cell_type": "code",
   "execution_count": null,
   "id": "0684bf36",
   "metadata": {},
   "outputs": [],
   "source": [
    "raw_data.hoursperweek.describe()"
   ]
  },
  {
   "cell_type": "code",
   "execution_count": null,
   "id": "c549c66c",
   "metadata": {},
   "outputs": [],
   "source": [
    "lst = [raw_data]\n",
    "for column in lst:\n",
    "    column.loc[column[\"hoursperweek\"] <= 1,  'hour_group'] = 'no work'\n",
    "    column.loc[(column[\"hoursperweek\"] > 1) & (column[\"hoursperweek\"] <= 35), 'hour_group'] = 'low working hours'\n",
    "    column.loc[(column[\"hoursperweek\"] > 35) & (column[\"hoursperweek\"] <= 45), 'hour_group'] = 'average working hours'\n",
    "    column.loc[(column[\"hoursperweek\"] > 50), 'hour_group'] = 'high working hours'\n",
    "    \n",
    "count_balance_response_pct = pd.crosstab(raw_data['Salary'],raw_data['hour_group']).apply(lambda x: x/x.sum() * 100)\n",
    "count_balance_response_pct = count_balance_response_pct.transpose()\n",
    "\n",
    "bal = pd.DataFrame(raw_data['hour_group'].value_counts())\n",
    "bal['% Employees'] = bal['hour_group']*100/bal['hour_group'].sum()\n",
    "bal['% Salary >50k'] = count_balance_response_pct[' >50K']\n",
    "bal.drop('hour_group',axis = 1,inplace = True)\n",
    "\n",
    "bal['bal'] = [1,2,0,3]\n",
    "bal = bal.sort_values('bal',ascending = True)\n",
    "\n",
    "plot_balance = bal[['% Salary >50k','% Employees']].plot(kind = 'bar',\n",
    "                                               color = ('green','red'),\n",
    "                                               figsize = (8,6))\n",
    "\n",
    "plt.title('Salary >50k vs Emploee Rate by working hours Level')\n",
    "plt.ylabel('Frequency')\n",
    "plt.xlabel('Working Hours Category')\n",
    "plt.xticks(rotation = 'horizontal')\n",
    "\n",
    "# label the bar\n",
    "for rec, label in zip(plot_balance.patches,\n",
    "                      bal['% Salary >50k'].round(1).astype(str)):\n",
    "    plot_balance.text(rec.get_x() + rec.get_width()/2, \n",
    "                      rec.get_height() + 1, \n",
    "                      label+'%',  \n",
    "                      ha = 'center', \n",
    "                      color = 'black')"
   ]
  },
  {
   "cell_type": "code",
   "execution_count": null,
   "id": "f1df4013",
   "metadata": {},
   "outputs": [],
   "source": [
    "count_job_response_pct = pd.crosstab(raw_data['Salary'],raw_data['workclass']).apply(lambda x: x/x.sum() * 100)\n",
    "count_job_response_pct"
   ]
  },
  {
   "cell_type": "code",
   "execution_count": null,
   "id": "96ddda03",
   "metadata": {},
   "outputs": [],
   "source": [
    "count_job_response_pct = count_job_response_pct.transpose()\n",
    "count_job_response_pct"
   ]
  },
  {
   "cell_type": "code",
   "execution_count": null,
   "id": "87b03086",
   "metadata": {},
   "outputs": [],
   "source": [
    "plot_job = count_job_response_pct[' >50K'].sort_values(ascending = True).plot(kind ='barh',\n",
    "                                                                           figsize = (12,6))\n",
    "                                                                               \n",
    "plt.title('Salary Rate by WorkClass')\n",
    "plt.xlabel('Frequency')\n",
    "plt.ylabel('Workclass Category')\n",
    "\n",
    "# Label each bar\n",
    "for rec, label in zip(plot_job.patches,\n",
    "                      count_job_response_pct[' >50K'].sort_values(ascending = True).round(1).astype(str)):\n",
    "    plot_job.text(rec.get_width()+1.3, \n",
    "                  rec.get_y()+ rec.get_height()-0.4, \n",
    "                  label+'%', \n",
    "                  ha = 'center', \n",
    "                  va='bottom')"
   ]
  },
  {
   "cell_type": "code",
   "execution_count": null,
   "id": "40bdb35c",
   "metadata": {},
   "outputs": [],
   "source": [
    "count_job_response_pct = pd.crosstab(raw_data['Salary'],raw_data['education']).apply(lambda x: x/x.sum() * 100)\n",
    "count_job_response_pct"
   ]
  },
  {
   "cell_type": "code",
   "execution_count": null,
   "id": "14b11736",
   "metadata": {},
   "outputs": [],
   "source": [
    "count_job_response_pct = count_job_response_pct.transpose()\n",
    "count_job_response_pct"
   ]
  },
  {
   "cell_type": "code",
   "execution_count": null,
   "id": "1b527cd1",
   "metadata": {},
   "outputs": [],
   "source": [
    "plot_job = count_job_response_pct[' >50K'].sort_values(ascending = True).plot(kind ='barh',\n",
    "                                                                           figsize = (14,8))\n",
    "                                                                               \n",
    "plt.title('Salary Rate by Education')\n",
    "plt.xlabel('Frequency')\n",
    "plt.ylabel('Education Category')\n",
    "\n",
    "# Label each bar\n",
    "for rec, label in zip(plot_job.patches,\n",
    "                      count_job_response_pct[' >50K'].sort_values(ascending = True).round(1).astype(str)):\n",
    "    plot_job.text(rec.get_width()+1.8, \n",
    "                  rec.get_y()+ rec.get_height()-0.5, \n",
    "                  label+'%', \n",
    "                  ha = 'center', \n",
    "                  va='bottom')"
   ]
  },
  {
   "cell_type": "code",
   "execution_count": null,
   "id": "c9a6f43b",
   "metadata": {},
   "outputs": [],
   "source": [
    "from sklearn import preprocessing\n",
    " \n",
    "# label_encoder object knows how to understand word labels.\n",
    "df= raw_data.copy()\n",
    "label_encoder = preprocessing.LabelEncoder()\n",
    "df[\"education\"]=label_encoder.fit_transform(df[\"education\"])\n",
    "df[\"workclass\"]=label_encoder.fit_transform(df[\"workclass\"])\n",
    "df[\"maritalstatus\"]=label_encoder.fit_transform(df[\"maritalstatus\"])\n",
    "df[\"sex\"]=label_encoder.fit_transform(df[\"sex\"])\n",
    "df[\"race\"]=label_encoder.fit_transform(df[\"race\"])\n",
    "df[\"occupation\"]=label_encoder.fit_transform(df[\"occupation\"])\n",
    "df[\"relationship\"]=label_encoder.fit_transform(df[\"relationship\"])\n",
    "df[\"native\"]=label_encoder.fit_transform(df[\"native\"])\n",
    "df[\"hour_group\"]=label_encoder.fit_transform(df[\"hour_group\"])\n",
    "df.head(10)"
   ]
  },
  {
   "cell_type": "code",
   "execution_count": null,
   "id": "43a16b93",
   "metadata": {},
   "outputs": [],
   "source": [
    "#Converting string value into binary classes such as if \">50K\" than classify it as '1' else 'O'\n",
    "df['Salary'] = raw_data.Salary\n",
    "df['Salary'] = np.where(df['Salary'].str.contains(\" >50K\"), 1, 0)\n",
    "df.head()"
   ]
  },
  {
   "cell_type": "code",
   "execution_count": null,
   "id": "ac28bd99",
   "metadata": {},
   "outputs": [],
   "source": [
    "df[continuous_feature]"
   ]
  },
  {
   "cell_type": "code",
   "execution_count": null,
   "id": "a6a5c6dd",
   "metadata": {},
   "outputs": [],
   "source": [
    "from sklearn.preprocessing import StandardScaler\n",
    "scaler = StandardScaler()\n",
    "features = df[continuous_feature]\n",
    "df[continuous_feature] = scaler.fit_transform(features.values)\n",
    "df.head()"
   ]
  },
  {
   "cell_type": "code",
   "execution_count": null,
   "id": "8308fce7",
   "metadata": {},
   "outputs": [],
   "source": [
    "x = df.drop('Salary',axis=1)\n",
    "y = df['Salary']"
   ]
  },
  {
   "cell_type": "code",
   "execution_count": null,
   "id": "6fcd174b",
   "metadata": {},
   "outputs": [],
   "source": [
    "y.unique()"
   ]
  },
  {
   "cell_type": "code",
   "execution_count": null,
   "id": "31ff339e",
   "metadata": {},
   "outputs": [],
   "source": [
    "x_train,x_test,y_train,y_test = train_test_split(x,y,test_size=0.3,random_state=1,stratify=y)"
   ]
  },
  {
   "cell_type": "code",
   "execution_count": null,
   "id": "9f886cc9",
   "metadata": {},
   "outputs": [],
   "source": [
    "# summarize train and test composition\n",
    "counter_train = Counter(y_train)\n",
    "counter_test = Counter(y_test)\n",
    "print('Training Data',counter_train,'Testing Data',counter_test)"
   ]
  },
  {
   "cell_type": "code",
   "execution_count": null,
   "id": "58fd99c3",
   "metadata": {},
   "outputs": [],
   "source": [
    "print(\"Shape of X_train: \",x_train.shape)\n",
    "print(\"Shape of X_test: \", x_test.shape)\n",
    "print(\"Shape of y_train: \",y_train.shape)\n",
    "print(\"Shape of y_test\",y_test.shape)"
   ]
  },
  {
   "cell_type": "code",
   "execution_count": null,
   "id": "0ae745dd",
   "metadata": {},
   "outputs": [],
   "source": [
    "def print_score(clf, X_train, y_train, X_test, y_test, train=True):\n",
    "    if train:\n",
    "        pred = clf.predict(X_train)\n",
    "        clf_report = pd.DataFrame(classification_report(y_train, pred, output_dict=True))\n",
    "        print(\"Train Result:\\n================================================\")\n",
    "        print(f\"Accuracy Score: {accuracy_score(y_train, pred) * 100:.2f}%\")\n",
    "        print(\"_______________________________________________\")\n",
    "        print(f\"CLASSIFICATION REPORT:\\n{clf_report}\")\n",
    "        print(\"_______________________________________________\")\n",
    "        print(f\"Confusion Matrix: \\n {confusion_matrix(y_train, pred)}\\n\")\n",
    "        \n",
    "    elif train==False:\n",
    "        pred = clf.predict(X_test)\n",
    "        clf_report = pd.DataFrame(classification_report(y_test, pred, output_dict=True))\n",
    "        print(\"Test Result:\\n================================================\")        \n",
    "        print(f\"Accuracy Score: {accuracy_score(y_test, pred) * 100:.2f}%\")\n",
    "        print(\"_______________________________________________\")\n",
    "        print(f\"CLASSIFICATION REPORT:\\n{clf_report}\")\n",
    "        print(\"_______________________________________________\")\n",
    "        print(f\"Confusion Matrix: \\n {confusion_matrix(y_test, pred)}\\n\")"
   ]
  },
  {
   "cell_type": "code",
   "execution_count": null,
   "id": "f9859dbf",
   "metadata": {},
   "outputs": [],
   "source": [
    "#Run SVM with default hyperparameters\n",
    "rf_clf = SVC()\n",
    "rf_clf.fit(x_train, y_train)\n",
    "\n",
    "print_score(rf_clf, x_train, y_train, x_test, y_test, train=True)\n",
    "print_score(rf_clf, x_train, y_train, x_test, y_test, train=False)"
   ]
  },
  {
   "cell_type": "code",
   "execution_count": null,
   "id": "44c2de0e",
   "metadata": {},
   "outputs": [],
   "source": [
    "x = df.drop(['Salary'], axis=1)\n",
    "y = df['Salary']\n",
    "\n",
    "x_train, x_test, y_train, y_test = train_test_split( x, y, test_size=0.30, random_state=0,stratify=y)"
   ]
  },
  {
   "cell_type": "code",
   "execution_count": null,
   "id": "1f854639",
   "metadata": {},
   "outputs": [],
   "source": [
    "print(\"Shape of X_train: \",x_train.shape)\n",
    "print(\"Shape of X_test: \", x_test.shape)\n",
    "print(\"Shape of y_train: \",y_train.shape)\n",
    "print(\"Shape of y_test\",y_test.shape)"
   ]
  },
  {
   "cell_type": "code",
   "execution_count": null,
   "id": "fd6492cd",
   "metadata": {},
   "outputs": [],
   "source": [
    "counter = Counter(y_train)\n",
    "print('Before',counter)\n",
    "# oversampling the train dataset using SMOTE\n",
    "smt = SMOTE()\n",
    "x_train_sm, y_train_sm = smt.fit_resample(x_train, y_train)\n",
    "\n",
    "counter = Counter(y_train_sm)\n",
    "print('After',counter)"
   ]
  },
  {
   "cell_type": "code",
   "execution_count": null,
   "id": "3661c262",
   "metadata": {},
   "outputs": [],
   "source": [
    "counter = Counter(y_train)\n",
    "print('Before',counter)\n",
    "# oversampling the train dataset using ADASYN\n",
    "ada = ADASYN(random_state=130)\n",
    "x_train_ada, y_train_ada = ada.fit_resample(x_train, y_train)\n",
    "\n",
    "counter = Counter(y_train_ada)\n",
    "print('After',counter)"
   ]
  },
  {
   "cell_type": "code",
   "execution_count": null,
   "id": "5a91072a",
   "metadata": {},
   "outputs": [],
   "source": [
    "counter = Counter(y_train)\n",
    "print('Before',counter)\n",
    "# oversampling the train dataset using SMOTE + Tomek\n",
    "smtom = SMOTETomek(random_state=139)\n",
    "x_train_smtom, y_train_smtom = smtom.fit_resample(x_train, y_train)\n",
    "\n",
    "counter = Counter(y_train_smtom)\n",
    "print('After',counter)"
   ]
  },
  {
   "cell_type": "code",
   "execution_count": null,
   "id": "4fbcdfe8",
   "metadata": {},
   "outputs": [],
   "source": [
    "counter = Counter(y_train)\n",
    "print('Before',counter)\n",
    "#oversampling the train dataset using SMOTE + ENN\n",
    "smenn = SMOTEENN()\n",
    "x_train_smenn, y_train_smenn = smenn.fit_resample(x_train, y_train)\n",
    "\n",
    "counter = Counter(y_train_smenn)\n",
    "print('After',counter)"
   ]
  },
  {
   "cell_type": "code",
   "execution_count": null,
   "id": "5289d95e",
   "metadata": {},
   "outputs": [],
   "source": [
    "sampled_data = {\n",
    "    'ACTUAL':[x_train, y_train],\n",
    "    'SMOTE':[x_train_sm, y_train_sm],\n",
    "    'ADASYN':[x_train_ada, y_train_ada],\n",
    "    'SMOTE_TOMEK':[x_train_smtom, y_train_smtom],\n",
    "    'SMOTE_ENN':[x_train_smenn, y_train_smenn]\n",
    "}"
   ]
  },
  {
   "cell_type": "code",
   "execution_count": null,
   "id": "a511f306",
   "metadata": {},
   "outputs": [],
   "source": [
    "def test_eval(clf_model, X_test, y_test, algo=None, sampling=None):\n",
    "    # Test set prediction\n",
    "    y_prob=clf_model.predict_proba(X_test)\n",
    "    y_pred=clf_model.predict(X_test)\n",
    "\n",
    "    print('Confusion Matrix')\n",
    "    print('='*60)\n",
    "    #plot_confusion_matrix(clf_model, X_test, y_test)  \n",
    "    #plt.show() \n",
    "    print(confusion_matrix(y_test,y_pred),\"\\n\")\n",
    "    print('Classification Report')\n",
    "    print('='*60)\n",
    "    print(classification_report(y_test,y_pred),\"\\n\")\n",
    "    print('AUC-ROC')\n",
    "    print('='*60)\n",
    "    print(roc_auc_score(y_test, y_prob[:,1]))\n",
    "    \n",
    "    #x = roc_auc_score(y_test, y_prob[:,1])\n",
    "    f1 = f1_score(y_test, y_pred, average='binary')\n",
    "    recall = recall_score(y_test, y_pred, average='binary')\n",
    "    precision = precision_score(y_test, y_pred, average='binary')\n",
    "          \n",
    "    \n",
    "    return algo,precision,recall,f1,sampling"
   ]
  },
  {
   "cell_type": "code",
   "execution_count": null,
   "id": "c63f6623",
   "metadata": {},
   "outputs": [],
   "source": [
    "model_params = {\n",
    "\n",
    "    'SVC' : {\n",
    "        'model' : SVC(probability=True),\n",
    "        'params' :[ {'C':[1], 'kernel':['linear']}]\n",
    "    }\n",
    "}"
   ]
  },
  {
   "cell_type": "code",
   "execution_count": null,
   "id": "76c7679c",
   "metadata": {},
   "outputs": [],
   "source": [
    "counter = Counter(y_train)\n",
    "print('Before',counter)\n",
    "# oversampling the train dataset using SMOTE + Tomek\n",
    "smtom = SMOTETomek(random_state=139)\n",
    "x_train_smtom, y_train_smtom = smtom.fit_resample(x_train, y_train)\n",
    "\n",
    "counter = Counter(y_train_smtom)\n",
    "print('After',counter)"
   ]
  },
  {
   "cell_type": "code",
   "execution_count": null,
   "id": "2dcea2a9",
   "metadata": {},
   "outputs": [],
   "source": [
    "x_train,x_test,y_train,y_test = train_test_split(x_train_smtom,y_train_smtom,test_size=0.3,random_state=1, stratify=y_train_smtom)\n",
    "\n",
    "counter = Counter(y_train_smtom)\n",
    "print('Before',counter)\n",
    "counter = Counter(y_train)\n",
    "print('After',counter)\n",
    "print(\"Shape of X_train: \",x_train.shape)\n",
    "print(\"Shape of X_test: \", x_test.shape)\n",
    "print(\"Shape of y_train: \",y_train.shape)\n",
    "print(\"Shape of y_test\",y_test.shape)"
   ]
  },
  {
   "cell_type": "code",
   "execution_count": null,
   "id": "9bbc1f20",
   "metadata": {},
   "outputs": [],
   "source": [
    "# initiating the model\n",
    "model = SVC(kernel='linear', probability=True)\n",
    "\n",
    "# fit the model\n",
    "model.fit(x_train, y_train)"
   ]
  },
  {
   "cell_type": "code",
   "execution_count": null,
   "id": "255b1458",
   "metadata": {},
   "outputs": [],
   "source": [
    "# IMPORTANT: first argument is true values, second argument is predicted values\n",
    "# this produces a 2x2 numpy array (matrix)\n",
    "\n",
    "#Predictions\n",
    "y_pred = model.predict(x_test)\n",
    "\n",
    "print('SVC Model using Linear Kernel accuracy score: {0:0.4f}'. format(accuracy_score(y_test, y_pred)))"
   ]
  },
  {
   "cell_type": "code",
   "execution_count": null,
   "id": "0555e86d",
   "metadata": {},
   "outputs": [],
   "source": [
    "# print the classification report\n",
    "print('SVM Linear Kernel Model','\\n',report(y_test, y_pred))"
   ]
  },
  {
   "cell_type": "code",
   "execution_count": null,
   "id": "d87cb660",
   "metadata": {},
   "outputs": [],
   "source": [
    "# print the scores on training and test set\n",
    "print('Training set score: {:.2f}%'.format(model.score(x_train, y_train)*100))\n",
    "print('Test set score: {:.2f}%'.format(model.score(x_test, y_test)*100))"
   ]
  },
  {
   "cell_type": "code",
   "execution_count": null,
   "id": "4b716660",
   "metadata": {},
   "outputs": [],
   "source": [
    "# plot confusion matrix to describe the performance of classifier.\n",
    "\n",
    "cm_df=cm(y_test, y_pred)\n",
    "class_label = [\"No\", \"Yes\"]\n",
    "df_cm = pd.DataFrame(cm_df, index = class_label, columns = class_label)\n",
    "sns.heatmap(df_cm, annot = True, fmt = \"d\")\n",
    "plt.title(\"Confusion Matrix\")\n",
    "plt.xlabel(\"Predicted Label\")\n",
    "plt.ylabel(\"Actual Label\")\n",
    "plt.show()"
   ]
  },
  {
   "cell_type": "code",
   "execution_count": null,
   "id": "f1a9c913",
   "metadata": {},
   "outputs": [],
   "source": [
    "fpr, tpr, thresholds = roc_curve(y_test, y_pred)\n",
    "\n",
    "plt.figure(figsize=(8,6))\n",
    "\n",
    "plt.plot(fpr, tpr, linewidth=2, color='red')\n",
    "\n",
    "plt.plot([0,1], [0,1], 'k--' )\n",
    "\n",
    "plt.rcParams['font.size'] = 12\n",
    "\n",
    "plt.title('ROC curve for SVM Classifier using Linear Kernel for Predicting Size_category')\n",
    "\n",
    "plt.xlabel('False Positive Rate (1 - Specificity)')\n",
    "\n",
    "plt.ylabel('True Positive Rate (Sensitivity)')\n",
    "\n",
    "plt.show()\n",
    "\n",
    "ROC_AUC = roc_auc_score(y_test, y_pred)\n",
    "\n",
    "print('ROC AUC : {:.4f}'.format(ROC_AUC))"
   ]
  },
  {
   "cell_type": "code",
   "execution_count": null,
   "id": "a03d7f3d",
   "metadata": {},
   "outputs": [],
   "source": [
    "# store the predicted probabilities for class 1 - Probability of Subscription\n",
    "\n",
    "y_pred1 = model.predict_proba(x_test)[:, 1]\n",
    "# plot histogram of predicted probabilities\n",
    "\n",
    "\n",
    "# adjust the font size \n",
    "plt.rcParams['font.size'] = 12\n",
    "\n",
    "\n",
    "# plot histogram with 10 bins\n",
    "plt.hist(y_pred1, bins = 10)\n",
    "\n",
    "\n",
    "# set the title of predicted probabilities\n",
    "plt.title('Histogram of predicted probabilities of Subscription')\n",
    "\n",
    "\n",
    "# set the x-axis limit\n",
    "plt.xlim(0,1)\n",
    "\n",
    "\n",
    "# set the title\n",
    "plt.xlabel('Predicted probabilities of Subscription')\n",
    "plt.ylabel('Frequency')"
   ]
  },
  {
   "cell_type": "code",
   "execution_count": null,
   "id": "816d21da",
   "metadata": {},
   "outputs": [],
   "source": [
    "from sklearn.metrics import roc_auc_score\n",
    "curve = roc_auc_score(y_test, y_pred)\n",
    "print(curve)"
   ]
  },
  {
   "cell_type": "code",
   "execution_count": null,
   "id": "6b7de6f5",
   "metadata": {},
   "outputs": [],
   "source": [
    "# initiating the model\n",
    "model = SVC(kernel='poly', probability=True)\n",
    "\n",
    "# fit the model\n",
    "model.fit(x_train, y_train)"
   ]
  },
  {
   "cell_type": "code",
   "execution_count": null,
   "id": "975cc91b",
   "metadata": {},
   "outputs": [],
   "source": [
    "# IMPORTANT: first argument is true values, second argument is predicted values\n",
    "# this produces a 2x2 numpy array (matrix)\n",
    "\n",
    "#Predictions\n",
    "y_pred = model.predict(x_test)\n",
    "\n",
    "print('SVC Model using Linear Kernel accuracy score: {0:0.4f}'. format(accuracy_score(y_test, y_pred)))"
   ]
  },
  {
   "cell_type": "code",
   "execution_count": null,
   "id": "4f4c2474",
   "metadata": {},
   "outputs": [],
   "source": [
    "# print the classification report\n",
    "\n",
    "print('SVM Linear Kernel Model','\\n',report(y_test, y_pred))"
   ]
  },
  {
   "cell_type": "code",
   "execution_count": null,
   "id": "4aac103c",
   "metadata": {},
   "outputs": [],
   "source": [
    "# print the scores on training and test set\n",
    "\n",
    "print('Training set score: {:.2f}%'.format(model.score(x_train, y_train)*100))\n",
    "\n",
    "print('Test set score: {:.2f}%'.format(model.score(x_test, y_test)*100))"
   ]
  },
  {
   "cell_type": "code",
   "execution_count": null,
   "id": "b8e1ab9a",
   "metadata": {},
   "outputs": [],
   "source": [
    "# plot confusion matrix to describe the performance of classifier.\n",
    "\n",
    "cm_df=cm(y_test, y_pred)\n",
    "class_label = [\"No\", \"Yes\"]\n",
    "df_cm = pd.DataFrame(cm_df, index = class_label, columns = class_label)\n",
    "sns.heatmap(df_cm, annot = True, fmt = \"d\")\n",
    "plt.title(\"Confusion Matrix\")\n",
    "plt.xlabel(\"Predicted Label\")\n",
    "plt.ylabel(\"Actual Label\")\n",
    "plt.show()"
   ]
  },
  {
   "cell_type": "code",
   "execution_count": null,
   "id": "52d925ad",
   "metadata": {},
   "outputs": [],
   "source": [
    "fpr, tpr, thresholds = roc_curve(y_test, y_pred)\n",
    "\n",
    "plt.figure(figsize=(8,6))\n",
    "\n",
    "plt.plot(fpr, tpr, linewidth=2, color='red')\n",
    "\n",
    "plt.plot([0,1], [0,1], 'k--' )\n",
    "\n",
    "plt.rcParams['font.size'] = 12\n",
    "\n",
    "plt.title('ROC curve for SVM Classifier using Polynomial Kernel for Predicting Size_category')\n",
    "\n",
    "plt.xlabel('False Positive Rate (1 - Specificity)')\n",
    "\n",
    "plt.ylabel('True Positive Rate (Sensitivity)')\n",
    "\n",
    "plt.show()\n",
    "\n",
    "ROC_AUC = roc_auc_score(y_test, y_pred)\n",
    "\n",
    "print('ROC AUC : {:.4f}'.format(ROC_AUC))"
   ]
  },
  {
   "cell_type": "code",
   "execution_count": null,
   "id": "f514292b",
   "metadata": {},
   "outputs": [],
   "source": [
    "# store the predicted probabilities for class 1 - Probability of Subscription\n",
    "\n",
    "y_pred1 = model.predict_proba(x_test)[:, 1]\n",
    "# plot histogram of predicted probabilities\n",
    "\n",
    "\n",
    "# adjust the font size \n",
    "plt.rcParams['font.size'] = 12\n",
    "\n",
    "\n",
    "# plot histogram with 10 bins\n",
    "plt.hist(y_pred1, bins = 10)\n",
    "\n",
    "\n",
    "# set the title of predicted probabilities\n",
    "plt.title('Histogram of predicted probabilities of Subscription')\n",
    "\n",
    "\n",
    "# set the x-axis limit\n",
    "plt.xlim(0,1)\n",
    "\n",
    "\n",
    "# set the title\n",
    "plt.xlabel('Predicted probabilities of Subscription')\n",
    "plt.ylabel('Frequency')"
   ]
  },
  {
   "cell_type": "code",
   "execution_count": null,
   "id": "3029cc89",
   "metadata": {},
   "outputs": [],
   "source": [
    "from sklearn.metrics import roc_auc_score\n",
    "curve = roc_auc_score(y_test, y_pred)\n",
    "print(curve)"
   ]
  },
  {
   "cell_type": "code",
   "execution_count": null,
   "id": "d3898ac2",
   "metadata": {},
   "outputs": [],
   "source": [
    "# initiating the model\n",
    "model = SVC(kernel='rbf', probability=True)\n",
    "\n",
    "# fit the model\n",
    "model.fit(x_train, y_train)"
   ]
  },
  {
   "cell_type": "code",
   "execution_count": null,
   "id": "10af974c",
   "metadata": {},
   "outputs": [],
   "source": [
    "# IMPORTANT: first argument is true values, second argument is predicted values\n",
    "# this produces a 2x2 numpy array (matrix)\n",
    "\n",
    "#Predictions\n",
    "y_pred = model.predict(x_test)\n",
    "\n",
    "print('SVC Model using Linear Kernel accuracy score: {0:0.4f}'. format(accuracy_score(y_test, y_pred)))"
   ]
  },
  {
   "cell_type": "code",
   "execution_count": null,
   "id": "c6af8582",
   "metadata": {},
   "outputs": [],
   "source": [
    "# print the classification report\n",
    "\n",
    "print('SVM Linear Kernel Model','\\n',report(y_test, y_pred))"
   ]
  },
  {
   "cell_type": "code",
   "execution_count": null,
   "id": "9f33607a",
   "metadata": {},
   "outputs": [],
   "source": [
    "# print the scores on training and test set\n",
    "\n",
    "print('Training set score: {:.2f}%'.format(model.score(x_train, y_train)*100))\n",
    "\n",
    "print('Test set score: {:.2f}%'.format(model.score(x_test, y_test)*100))"
   ]
  },
  {
   "cell_type": "code",
   "execution_count": null,
   "id": "86bda6de",
   "metadata": {},
   "outputs": [],
   "source": [
    "# plot confusion matrix to describe the performance of classifier.\n",
    "\n",
    "cm_df=cm(y_test, y_pred)\n",
    "class_label = [\"No\", \"Yes\"]\n",
    "df_cm = pd.DataFrame(cm_df, index = class_label, columns = class_label)\n",
    "sns.heatmap(df_cm, annot = True, fmt = \"d\")\n",
    "plt.title(\"Confusion Matrix\")\n",
    "plt.xlabel(\"Predicted Label\")\n",
    "plt.ylabel(\"Actual Label\")\n",
    "plt.show()"
   ]
  },
  {
   "cell_type": "code",
   "execution_count": null,
   "id": "8195f57d",
   "metadata": {},
   "outputs": [],
   "source": [
    "fpr, tpr, thresholds = roc_curve(y_test, y_pred)\n",
    "\n",
    "plt.figure(figsize=(8,6))\n",
    "\n",
    "plt.plot(fpr, tpr, linewidth=2, color='red')\n",
    "\n",
    "plt.plot([0,1], [0,1], 'k--' )\n",
    "\n",
    "plt.rcParams['font.size'] = 12\n",
    "\n",
    "plt.title('ROC curve for SVM Classifier using Polynomial Kernel for Predicting Size_category')\n",
    "\n",
    "plt.xlabel('False Positive Rate (1 - Specificity)')\n",
    "\n",
    "plt.ylabel('True Positive Rate (Sensitivity)')\n",
    "\n",
    "plt.show()\n",
    "\n",
    "ROC_AUC = roc_auc_score(y_test, y_pred)\n",
    "\n",
    "print('ROC AUC : {:.4f}'.format(ROC_AUC))"
   ]
  },
  {
   "cell_type": "code",
   "execution_count": null,
   "id": "f7d57827",
   "metadata": {},
   "outputs": [],
   "source": [
    "# store the predicted probabilities for class 1 - Probability of Subscription\n",
    "\n",
    "y_pred1 = model.predict_proba(x_test)[:, 1]\n",
    "# plot histogram of predicted probabilities\n",
    "\n",
    "\n",
    "# adjust the font size \n",
    "plt.rcParams['font.size'] = 12\n",
    "\n",
    "\n",
    "# plot histogram with 10 bins\n",
    "plt.hist(y_pred1, bins = 10)\n",
    "\n",
    "\n",
    "# set the title of predicted probabilities\n",
    "plt.title('Histogram of predicted probabilities of Subscription')\n",
    "\n",
    "\n",
    "# set the x-axis limit\n",
    "plt.xlim(0,1)\n",
    "\n",
    "\n",
    "# set the title\n",
    "plt.xlabel('Predicted probabilities of Subscription')\n",
    "plt.ylabel('Frequency')"
   ]
  },
  {
   "cell_type": "code",
   "execution_count": null,
   "id": "ef8e7edd",
   "metadata": {},
   "outputs": [],
   "source": [
    "from sklearn.metrics import roc_auc_score\n",
    "curve = roc_auc_score(y_test, y_pred)\n",
    "print(curve)"
   ]
  },
  {
   "cell_type": "code",
   "execution_count": null,
   "id": "41b5afed",
   "metadata": {},
   "outputs": [],
   "source": [
    "# initiating the model\n",
    "model = SVC(kernel='sigmoid', probability=True)\n",
    "\n",
    "# fit the model\n",
    "model.fit(x_train, y_train)"
   ]
  },
  {
   "cell_type": "code",
   "execution_count": null,
   "id": "f084dafc",
   "metadata": {},
   "outputs": [],
   "source": [
    "# IMPORTANT: first argument is true values, second argument is predicted values\n",
    "# this produces a 2x2 numpy array (matrix)\n",
    "\n",
    "#Predictions\n",
    "y_pred = model.predict(x_test)\n",
    "\n",
    "print('SVC Model using Linear Kernel accuracy score: {0:0.4f}'. format(accuracy_score(y_test, y_pred)))"
   ]
  },
  {
   "cell_type": "code",
   "execution_count": null,
   "id": "6da59349",
   "metadata": {},
   "outputs": [],
   "source": [
    "# print the classification report\n",
    "\n",
    "print('SVM Linear Kernel Model','\\n',report(y_test, y_pred))"
   ]
  },
  {
   "cell_type": "code",
   "execution_count": null,
   "id": "30000d15",
   "metadata": {},
   "outputs": [],
   "source": [
    "# print the scores on training and test set\n",
    "\n",
    "print('Training set score: {:.2f}%'.format(model.score(x_train, y_train)*100))\n",
    "\n",
    "print('Test set score: {:.2f}%'.format(model.score(x_test, y_test)*100))"
   ]
  },
  {
   "cell_type": "code",
   "execution_count": null,
   "id": "bb90ae99",
   "metadata": {},
   "outputs": [],
   "source": [
    "# plot confusion matrix to describe the performance of classifier.\n",
    "\n",
    "cm_df=cm(y_test, y_pred)\n",
    "class_label = [\"No\", \"Yes\"]\n",
    "df_cm = pd.DataFrame(cm_df, index = class_label, columns = class_label)\n",
    "sns.heatmap(df_cm, annot = True, fmt = \"d\")\n",
    "plt.title(\"Confusion Matrix\")\n",
    "plt.xlabel(\"Predicted Label\")\n",
    "plt.ylabel(\"Actual Label\")\n",
    "plt.show()"
   ]
  },
  {
   "cell_type": "code",
   "execution_count": null,
   "id": "ebadb3f7",
   "metadata": {},
   "outputs": [],
   "source": [
    "fpr, tpr, thresholds = roc_curve(y_test, y_pred)\n",
    "\n",
    "plt.figure(figsize=(8,6))\n",
    "\n",
    "plt.plot(fpr, tpr, linewidth=2, color='red')\n",
    "\n",
    "plt.plot([0,1], [0,1], 'k--' )\n",
    "\n",
    "plt.rcParams['font.size'] = 12\n",
    "\n",
    "plt.title('ROC curve for SVM Classifier using Polynomial Kernel for Predicting Size_category')\n",
    "\n",
    "plt.xlabel('False Positive Rate (1 - Specificity)')\n",
    "\n",
    "plt.ylabel('True Positive Rate (Sensitivity)')\n",
    "\n",
    "plt.show()\n",
    "\n",
    "ROC_AUC = roc_auc_score(y_test, y_pred)\n",
    "\n",
    "print('ROC AUC : {:.4f}'.format(ROC_AUC))"
   ]
  },
  {
   "cell_type": "code",
   "execution_count": null,
   "id": "21b17afc",
   "metadata": {},
   "outputs": [],
   "source": [
    "# store the predicted probabilities for class 1 - Probability of Subscription\n",
    "\n",
    "y_pred1 = model.predict_proba(x_test)[:, 1]\n",
    "# plot histogram of predicted probabilities\n",
    "\n",
    "\n",
    "# adjust the font size \n",
    "plt.rcParams['font.size'] = 12\n",
    "\n",
    "\n",
    "# plot histogram with 10 bins\n",
    "plt.hist(y_pred1, bins = 10)\n",
    "\n",
    "\n",
    "# set the title of predicted probabilities\n",
    "plt.title('Histogram of predicted probabilities of Subscription')\n",
    "\n",
    "\n",
    "# set the x-axis limit\n",
    "plt.xlim(0,1)\n",
    "\n",
    "\n",
    "# set the title\n",
    "plt.xlabel('Predicted probabilities of Subscription')\n",
    "plt.ylabel('Frequency')"
   ]
  },
  {
   "cell_type": "code",
   "execution_count": null,
   "id": "f8cb20cc",
   "metadata": {},
   "outputs": [],
   "source": [
    "from sklearn.metrics import roc_auc_score\n",
    "curve = roc_auc_score(y_test, y_pred)\n",
    "print(curve)"
   ]
  },
  {
   "cell_type": "code",
   "execution_count": null,
   "id": "f51a2e2f",
   "metadata": {},
   "outputs": [],
   "source": [
    "SVMC = SVC(random_state=42)\n",
    "\n",
    "svc_param_grid = {'kernel': ['rbf', 'sigmoid', 'poly','linear'], \n",
    "                  'gamma': [1, 0.1, 0.01, 0.001],\n",
    "                  'C': [1000, 100, 10, 1],\n",
    "                  'tol':[0.001,0.0008,0.0009,0.0011]}\n",
    "\n",
    "gsSVMC = GridSearchCV(SVMC, param_grid = svc_param_grid, cv = 10, scoring = \"accuracy\", n_jobs = 6, verbose = 1)\n",
    "\n",
    "gsSVMC.fit(x_train,y_train)\n",
    "\n",
    "svm_best = gsSVMC.best_estimator_\n",
    "\n",
    "gsSVMC.best_score_"
   ]
  },
  {
   "cell_type": "code",
   "execution_count": null,
   "id": "d7de1335",
   "metadata": {},
   "outputs": [],
   "source": [
    "gsSVMC.best_params_"
   ]
  },
  {
   "cell_type": "code",
   "execution_count": null,
   "id": "f3e9feeb",
   "metadata": {},
   "outputs": [],
   "source": [
    "predict_results = svm_best.predict(x_test)\n",
    "np.mean(predict_results==y_test)"
   ]
  },
  {
   "cell_type": "code",
   "execution_count": null,
   "id": "0d98ef67",
   "metadata": {},
   "outputs": [],
   "source": [
    "# import GridSearchCV\n",
    "from sklearn.model_selection import GridSearchCV\n",
    "\n",
    "\n",
    "# import SVC classifier\n",
    "from sklearn.svm import SVC\n",
    "\n",
    "\n",
    "# instantiate classifier with default hyperparameters with kernel=rbf, C=1.0 and gamma=auto\n",
    "svc=SVC() \n",
    "\n",
    "\n",
    "\n",
    "# declare parameters for hyperparameter tuning\n",
    "parameters = [ {'C':[1, 10, 100, 1000], 'kernel':['linear']},\n",
    "               {'C':[1, 10, 100, 1000], 'kernel':['rbf'], 'gamma':[0.1, 0.2, 0.3, 0.4, 0.5, 0.6, 0.7, 0.8, 0.9]},\n",
    "               {'C':[1, 10, 100, 1000], 'kernel':['poly'], 'degree': [2,3,4] ,'gamma':[0.01,0.02,0.03,0.04,0.05]} \n",
    "              ]\n",
    "\n",
    "\n",
    "\n",
    "\n",
    "grid_search = GridSearchCV(estimator = svc,  \n",
    "                           param_grid = parameters,\n",
    "                           scoring = 'accuracy',\n",
    "                           cv = 10,\n",
    "                           verbose=0)\n",
    "\n",
    "\n",
    "grid_search.fit(x_train, y_train)"
   ]
  },
  {
   "cell_type": "code",
   "execution_count": null,
   "id": "c3087e92",
   "metadata": {},
   "outputs": [],
   "source": [
    "# examine the best model\n",
    "\n",
    "\n",
    "# best score achieved during the GridSearchCV\n",
    "print('GridSearch CV best score : {:.4f}\\n\\n'.format(grid_search.best_score_))\n",
    "\n",
    "\n",
    "# print parameters that give the best results\n",
    "print('Parameters that give the best results :','\\n\\n', (grid_search.best_params_))\n",
    "\n",
    "\n",
    "# print estimator that was chosen by the GridSearch\n",
    "print('\\n\\nEstimator that was chosen by the search :','\\n\\n', (grid_search.best_estimator_))"
   ]
  },
  {
   "cell_type": "code",
   "execution_count": null,
   "id": "82b8d98f",
   "metadata": {},
   "outputs": [],
   "source": [
    "# calculate GridSearch CV score on test set\n",
    "\n",
    "print('GridSearch CV score on test set: {0:0.4f}'.format(grid_search.score(x_test, y_test)))"
   ]
  },
  {
   "cell_type": "code",
   "execution_count": null,
   "id": "86e2bb32",
   "metadata": {},
   "outputs": [],
   "source": [
    "model_params = {\n",
    "\n",
    "    'SVC' : {\n",
    "        'model' : SVC(probability=True),\n",
    "        'params' :[ {'C':[1, 10, 100, 1000]#, 'kernel':['linear']},\n",
    "               {'C':[1, 10, 100, 1000], 'kernel':['rbf'], 'gamma':[0.1, 0.2, 0.3, 0.4, 0.5, 0.6, 0.7, 0.8, 0.9]},\n",
    "               {'C':[1, 10, 100, 1000], 'kernel':['poly'], 'degree': [2,3,4] ,'gamma':[0.01,0.02,0.03,0.04,0.05]} \n",
    "                  ]\n",
    "    }\n",
    "}"
   ]
  }
 ],
 "metadata": {
  "kernelspec": {
   "display_name": "Python 3 (ipykernel)",
   "language": "python",
   "name": "python3"
  },
  "language_info": {
   "codemirror_mode": {
    "name": "ipython",
    "version": 3
   },
   "file_extension": ".py",
   "mimetype": "text/x-python",
   "name": "python",
   "nbconvert_exporter": "python",
   "pygments_lexer": "ipython3",
   "version": "3.9.12"
  }
 },
 "nbformat": 4,
 "nbformat_minor": 5
}
